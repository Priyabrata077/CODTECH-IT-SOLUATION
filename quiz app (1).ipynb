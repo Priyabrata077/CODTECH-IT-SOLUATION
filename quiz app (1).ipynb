{
  "nbformat": 4,
  "nbformat_minor": 0,
  "metadata": {
    "colab": {
      "provenance": [],
      "toc_visible": true
    },
    "kernelspec": {
      "name": "python3",
      "display_name": "Python 3"
    },
    "language_info": {
      "name": "python"
    }
  },
  "cells": [
    {
      "cell_type": "code",
      "execution_count": null,
      "metadata": {
        "id": "s7NpKnfNnbUO"
      },
      "outputs": [],
      "source": [
        "import json"
      ]
    },
    {
      "cell_type": "code",
      "source": [
        "def load_questions_from_file(file_path):\n",
        "    with open(file_path, 'r') as file:\n",
        "        questions = json.load(file)\n",
        "    return questions"
      ],
      "metadata": {
        "id": "rF24CHjrnrdg"
      },
      "execution_count": null,
      "outputs": []
    },
    {
      "cell_type": "code",
      "source": [
        "def present_question(question):\n",
        "    print(question['question'])\n",
        "    for i, option in enumerate(question['options']):\n",
        "        print(f\"{i+1}. {option}\")"
      ],
      "metadata": {
        "id": "CEtX2aPXnvJ_"
      },
      "execution_count": null,
      "outputs": []
    },
    {
      "cell_type": "code",
      "source": [
        "\n",
        "def get_user_answer():\n",
        "    while True:\n",
        "        try:\n",
        "            answer = int(input(\"Enter your answer (1-4): \"))\n",
        "            if 1 <= answer <= 4:\n",
        "                return answer - 1  # This adjusting the answer to be on a zero-based index\n",
        "            else:\n",
        "                print(\"Invalid input. Please enter a number between 1 and 4.\")\n",
        "        except ValueError:\n",
        "            print(\"Invalid input. Please enter a number.\")\n"
      ],
      "metadata": {
        "id": "mEcKKPn_n1TX"
      },
      "execution_count": null,
      "outputs": []
    },
    {
      "cell_type": "code",
      "source": [
        "def evaluate_answer(question, answer):\n",
        "    if question['correct_answer'] == answer:\n",
        "        print(\"Correct!\")\n",
        "        return 1\n",
        "    else:\n",
        "        print(\"Incorrect!\")\n",
        "        return 0\n"
      ],
      "metadata": {
        "id": "L4tfE3yln2ol"
      },
      "execution_count": null,
      "outputs": []
    },
    {
      "cell_type": "code",
      "source": [
        "def play_quiz(questions):\n",
        "    score = 0\n",
        "    total_questions = len(questions)\n",
        "\n",
        "    for i, question in enumerate(questions):\n",
        "        print(f\"\\nQuestion {i+1} of {total_questions}:\")\n",
        "        present_question(question)\n",
        "        user_answer = get_user_answer()\n",
        "        score += evaluate_answer(question, user_answer)\n",
        "\n",
        "    print(f\"\\nQuiz completed! Your score: {score}/{total_questions}\")"
      ],
      "metadata": {
        "id": "b4hb-tVQn6ZI"
      },
      "execution_count": null,
      "outputs": []
    },
    {
      "cell_type": "code",
      "source": [
        "def play_quiz(questions):\n",
        "    score = 0\n",
        "    total_questions = len(questions)\n",
        "\n",
        "    for i, question in enumerate(questions):\n",
        "        print(f\"\\nQuestion {i+1} of {total_questions}:\")\n",
        "        present_question(question)\n",
        "        user_answer = get_user_answer()\n",
        "        score += evaluate_answer(question, user_answer)\n",
        "\n",
        "    print(f\"\\nQuiz completed! Your score: {score}/{total_questions}\")"
      ],
      "metadata": {
        "id": "_GLNOZLCoAcR"
      },
      "execution_count": null,
      "outputs": []
    },
    {
      "cell_type": "code",
      "source": [
        "questions = load_questions_from_file('questions.json')  # Assuming questions are stored in a JSON file\n",
        "play_quiz(questions)\n"
      ],
      "metadata": {
        "colab": {
          "base_uri": "https://localhost:8080/"
        },
        "id": "1MFi5OCWoB3L",
        "outputId": "13591b9b-790b-4cfb-e403-86748728b781"
      },
      "execution_count": null,
      "outputs": [
        {
          "output_type": "stream",
          "name": "stdout",
          "text": [
            "\n",
            "Question 1 of 4:\n",
            "What is the capital of France?\n",
            "1. Paris\n",
            "2. London\n",
            "3. Berlin\n",
            "4. Madrid\n",
            "Enter your answer (1-4): 1\n",
            "Correct!\n",
            "\n",
            "Question 2 of 4:\n",
            "Who painted the Mona Lisa?\n",
            "1. Pablo Picasso\n",
            "2. Vincent van Gogh\n",
            "3. Michelangelo\n",
            "4. Leonardo da Vinci\n",
            "Enter your answer (1-4): 3\n",
            "Incorrect!\n",
            "\n",
            "Question 3 of 4:\n",
            "Which planet is known as the Red Planet?\n",
            "1. Venus\n",
            "2. Mars\n",
            "3. Jupiter\n",
            "4. Mercury\n",
            "Enter your answer (1-4): 1\n",
            "Incorrect!\n",
            "\n",
            "Question 4 of 4:\n",
            "What is the largest organ in the human body?\n",
            "1. Heart\n",
            "2. Liver\n",
            "3. Skin\n",
            "4. Brain\n",
            "Enter your answer (1-4): 4\n",
            "Incorrect!\n",
            "\n",
            "Quiz completed! Your score: 1/4\n"
          ]
        }
      ]
    }
  ]
}